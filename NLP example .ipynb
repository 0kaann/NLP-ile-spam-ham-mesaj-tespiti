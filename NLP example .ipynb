{
 "cells": [
  {
   "cell_type": "code",
   "execution_count": 1,
   "metadata": {
    "_cell_guid": "b1076dfc-b9ad-4769-8c92-a6c4dae69d19",
    "_uuid": "8f2839f25d086af736a60e9eeb907d3b93b6e0e5",
    "execution": {
     "iopub.execute_input": "2024-02-07T19:13:04.004518Z",
     "iopub.status.busy": "2024-02-07T19:13:04.004153Z",
     "iopub.status.idle": "2024-02-07T19:13:05.207321Z",
     "shell.execute_reply": "2024-02-07T19:13:05.206393Z",
     "shell.execute_reply.started": "2024-02-07T19:13:04.004490Z"
    }
   },
   "outputs": [],
   "source": [
    "import numpy as np \n",
    "import pandas as pd "
   ]
  },
  {
   "cell_type": "code",
   "execution_count": 2,
   "metadata": {
    "execution": {
     "iopub.execute_input": "2024-02-07T19:13:34.020756Z",
     "iopub.status.busy": "2024-02-07T19:13:34.020340Z",
     "iopub.status.idle": "2024-02-07T19:13:34.057812Z",
     "shell.execute_reply": "2024-02-07T19:13:34.056724Z",
     "shell.execute_reply.started": "2024-02-07T19:13:34.020721Z"
    }
   },
   "outputs": [],
   "source": [
    "data=pd.read_csv(\"spam_text_message_data.csv\")\n",
    "df=data.copy()"
   ]
  },
  {
   "cell_type": "code",
   "execution_count": 3,
   "metadata": {
    "execution": {
     "iopub.execute_input": "2024-02-07T19:13:37.156191Z",
     "iopub.status.busy": "2024-02-07T19:13:37.155810Z",
     "iopub.status.idle": "2024-02-07T19:13:37.170113Z",
     "shell.execute_reply": "2024-02-07T19:13:37.169315Z",
     "shell.execute_reply.started": "2024-02-07T19:13:37.156162Z"
    }
   },
   "outputs": [
    {
     "data": {
      "text/html": [
       "<div>\n",
       "<style scoped>\n",
       "    .dataframe tbody tr th:only-of-type {\n",
       "        vertical-align: middle;\n",
       "    }\n",
       "\n",
       "    .dataframe tbody tr th {\n",
       "        vertical-align: top;\n",
       "    }\n",
       "\n",
       "    .dataframe thead th {\n",
       "        text-align: right;\n",
       "    }\n",
       "</style>\n",
       "<table border=\"1\" class=\"dataframe\">\n",
       "  <thead>\n",
       "    <tr style=\"text-align: right;\">\n",
       "      <th></th>\n",
       "      <th>Category</th>\n",
       "      <th>Message</th>\n",
       "    </tr>\n",
       "  </thead>\n",
       "  <tbody>\n",
       "    <tr>\n",
       "      <th>0</th>\n",
       "      <td>ham</td>\n",
       "      <td>Go until jurong point, crazy.. Available only ...</td>\n",
       "    </tr>\n",
       "    <tr>\n",
       "      <th>1</th>\n",
       "      <td>ham</td>\n",
       "      <td>Ok lar... Joking wif u oni...</td>\n",
       "    </tr>\n",
       "    <tr>\n",
       "      <th>2</th>\n",
       "      <td>spam</td>\n",
       "      <td>Free entry in 2 a wkly comp to win FA Cup fina...</td>\n",
       "    </tr>\n",
       "    <tr>\n",
       "      <th>3</th>\n",
       "      <td>ham</td>\n",
       "      <td>U dun say so early hor... U c already then say...</td>\n",
       "    </tr>\n",
       "    <tr>\n",
       "      <th>4</th>\n",
       "      <td>ham</td>\n",
       "      <td>Nah I don't think he goes to usf, he lives aro...</td>\n",
       "    </tr>\n",
       "  </tbody>\n",
       "</table>\n",
       "</div>"
      ],
      "text/plain": [
       "  Category                                            Message\n",
       "0      ham  Go until jurong point, crazy.. Available only ...\n",
       "1      ham                      Ok lar... Joking wif u oni...\n",
       "2     spam  Free entry in 2 a wkly comp to win FA Cup fina...\n",
       "3      ham  U dun say so early hor... U c already then say...\n",
       "4      ham  Nah I don't think he goes to usf, he lives aro..."
      ]
     },
     "execution_count": 3,
     "metadata": {},
     "output_type": "execute_result"
    }
   ],
   "source": [
    "df.head()"
   ]
  },
  {
   "cell_type": "code",
   "execution_count": 4,
   "metadata": {
    "execution": {
     "iopub.execute_input": "2024-02-07T19:13:56.693534Z",
     "iopub.status.busy": "2024-02-07T19:13:56.692955Z",
     "iopub.status.idle": "2024-02-07T19:13:56.717513Z",
     "shell.execute_reply": "2024-02-07T19:13:56.716429Z",
     "shell.execute_reply.started": "2024-02-07T19:13:56.693484Z"
    }
   },
   "outputs": [
    {
     "data": {
      "text/html": [
       "<div>\n",
       "<style scoped>\n",
       "    .dataframe tbody tr th:only-of-type {\n",
       "        vertical-align: middle;\n",
       "    }\n",
       "\n",
       "    .dataframe tbody tr th {\n",
       "        vertical-align: top;\n",
       "    }\n",
       "\n",
       "    .dataframe thead th {\n",
       "        text-align: right;\n",
       "    }\n",
       "</style>\n",
       "<table border=\"1\" class=\"dataframe\">\n",
       "  <thead>\n",
       "    <tr style=\"text-align: right;\">\n",
       "      <th></th>\n",
       "      <th>count</th>\n",
       "      <th>unique</th>\n",
       "      <th>top</th>\n",
       "      <th>freq</th>\n",
       "    </tr>\n",
       "  </thead>\n",
       "  <tbody>\n",
       "    <tr>\n",
       "      <th>Category</th>\n",
       "      <td>5572</td>\n",
       "      <td>2</td>\n",
       "      <td>ham</td>\n",
       "      <td>4825</td>\n",
       "    </tr>\n",
       "    <tr>\n",
       "      <th>Message</th>\n",
       "      <td>5572</td>\n",
       "      <td>5157</td>\n",
       "      <td>Sorry, I'll call later</td>\n",
       "      <td>30</td>\n",
       "    </tr>\n",
       "  </tbody>\n",
       "</table>\n",
       "</div>"
      ],
      "text/plain": [
       "         count unique                     top  freq\n",
       "Category  5572      2                     ham  4825\n",
       "Message   5572   5157  Sorry, I'll call later    30"
      ]
     },
     "execution_count": 4,
     "metadata": {},
     "output_type": "execute_result"
    }
   ],
   "source": [
    "df.describe().T"
   ]
  },
  {
   "cell_type": "code",
   "execution_count": 5,
   "metadata": {
    "execution": {
     "iopub.execute_input": "2024-02-07T19:14:13.874810Z",
     "iopub.status.busy": "2024-02-07T19:14:13.874414Z",
     "iopub.status.idle": "2024-02-07T19:14:13.896220Z",
     "shell.execute_reply": "2024-02-07T19:14:13.894947Z",
     "shell.execute_reply.started": "2024-02-07T19:14:13.874779Z"
    }
   },
   "outputs": [
    {
     "name": "stdout",
     "output_type": "stream",
     "text": [
      "<class 'pandas.core.frame.DataFrame'>\n",
      "RangeIndex: 5572 entries, 0 to 5571\n",
      "Data columns (total 2 columns):\n",
      " #   Column    Non-Null Count  Dtype \n",
      "---  ------    --------------  ----- \n",
      " 0   Category  5572 non-null   object\n",
      " 1   Message   5572 non-null   object\n",
      "dtypes: object(2)\n",
      "memory usage: 87.2+ KB\n"
     ]
    }
   ],
   "source": [
    "df.info()"
   ]
  },
  {
   "cell_type": "markdown",
   "metadata": {},
   "source": [
    "# DATA TEMİZLEME"
   ]
  },
  {
   "cell_type": "code",
   "execution_count": 6,
   "metadata": {
    "execution": {
     "iopub.execute_input": "2024-02-07T19:42:39.635687Z",
     "iopub.status.busy": "2024-02-07T19:42:39.635069Z",
     "iopub.status.idle": "2024-02-07T19:42:59.807789Z",
     "shell.execute_reply": "2024-02-07T19:42:59.806104Z",
     "shell.execute_reply.started": "2024-02-07T19:42:39.635647Z"
    }
   },
   "outputs": [],
   "source": [
    "# male female olarak geçen objeleri 1,0 olarak değiştiriyorum\n",
    "data.Category = [1 if each== \"spam\" else 0 for each in data.Category]\n",
    "\n",
    "#regular expression, NLP\n",
    "import re\n",
    "import nltk as nlt\n",
    "\n",
    "\n",
    "message_list=[]\n",
    "\n",
    "#gereksiz kısımlarından ayırıp modelin daha iyi çalışmasına yarar sağlaması için mesajları temizledik.\n",
    "for message in df.Message:\n",
    "    #regular expression\n",
    "    message= re.sub(\"[^a-zA-Z]\",\" \",message)\n",
    "\n",
    "    message=message.lower()\n",
    "    \n",
    "    #tokenize\n",
    "    message=nlt.word_tokenize(message)\n",
    "    \n",
    "    #Lemmatizer\n",
    "    lm= nlt.WordNetLemmatizer()\n",
    "\n",
    "    message=[lm.lemmatize(word) for word in message]\n",
    "    \n",
    "    #join\n",
    "    message=\" \".join(message)\n",
    "\n",
    "    message_list.append(message)\n",
    "        \n",
    "   "
   ]
  },
  {
   "cell_type": "markdown",
   "metadata": {},
   "source": [
    "# MODEL EĞİTİMİ"
   ]
  },
  {
   "cell_type": "code",
   "execution_count": 7,
   "metadata": {},
   "outputs": [],
   "source": [
    "from sklearn.feature_extraction.text import CountVectorizer\n",
    "from sklearn.model_selection import train_test_split\n",
    "from sklearn.naive_bayes import GaussianNB\n",
    "\n",
    "values = np.arange(1,5000,500)\n",
    "\n",
    "score_list=[]\n",
    "\n",
    "for max_feature in values:\n",
    "    \n",
    "    count_vectorizer=CountVectorizer(max_features=max_feature,stop_words=\"english\")\n",
    "\n",
    "    sparce_matrix=count_vectorizer.fit_transform(message_list).toarray()\n",
    "\n",
    "    y=df.iloc[:,0].values\n",
    "    \n",
    "    X=sparce_matrix\n",
    "    \n",
    "    #train_test_split\n",
    "    X_train,X_test,y_train,y_test=train_test_split(X,y,test_size=0.2,random_state=42)\n",
    "    \n",
    "    #naive_bayes\n",
    "    nb= GaussianNB()\n",
    "    \n",
    "    #training\n",
    "    nb.fit(X_train,y_train)\n",
    "\n",
    "    score_list.append(nb.score(X_test,y_test))  \n"
   ]
  },
  {
   "cell_type": "markdown",
   "metadata": {},
   "source": [
    "# DATA TEMİZLEME FONKSİYONU"
   ]
  },
  {
   "cell_type": "code",
   "execution_count": 8,
   "metadata": {},
   "outputs": [],
   "source": [
    "sms_list=[]\n",
    "def sms(sms):\n",
    "    #regular expression\n",
    "    sms= re.sub(\"[^a-zA-Z]\",\" \",sms)\n",
    "\n",
    "    sms=sms.lower()\n",
    "    \n",
    "    #tokenize\n",
    "    message=nlt.word_tokenize(sms)\n",
    "    \n",
    "    #Lemmatizer\n",
    "    lm= nlt.WordNetLemmatizer()\n",
    "\n",
    "    sms=[lm.lemmatize(word) for word in sms]\n",
    "    \n",
    "    #join\n",
    "    sms=\" \".join(sms)\n",
    "\n",
    "    sms_list.append(sms)\n",
    "    \n",
    "\n",
    "    \n",
    "sms(\"\")\n",
    "   \n"
   ]
  },
  {
   "cell_type": "markdown",
   "metadata": {},
   "source": [
    "# MODEL SKOR GRAFİĞİ"
   ]
  },
  {
   "cell_type": "code",
   "execution_count": 9,
   "metadata": {},
   "outputs": [
    {
     "data": {
      "image/png": "[encoded data removed]",
      "text/plain": [
       "<Figure size 800x400 with 1 Axes>"
      ]
     },
     "metadata": {},
     "output_type": "display_data"
    },
    {
     "name": "stdout",
     "output_type": "stream",
     "text": [
      " 3501 değerinde en yüksek score: 0.8825112107623319 olarak  elde edildi.\n"
     ]
    }
   ],
   "source": [
    "import matplotlib.pyplot as plt\n",
    "plt.figure(figsize=[8,4])\n",
    "plt.plot(values, score_list, label = 'SCORE', marker='.',markersize=8)\n",
    "plt.legend()\n",
    "plt.title(' ')\n",
    "plt.xlabel('MAX FEATURE')\n",
    "plt.ylabel('SCORE')\n",
    "plt.xticks(values);\n",
    "plt.show();\n",
    "\n",
    "#values listemdeki max_feature belirlemek için index değerini değişkene atadım bunu en yüksek skoru bastırırken kullanacağım\n",
    "max_feature_index=score_list.index(np.max(score_list))\n",
    "\n",
    "print(\" {} değerinde en yüksek score: {} olarak  elde edildi.\".format(values[max_feature_index],np.max(score_list)))"
   ]
  },
  {
   "cell_type": "markdown",
   "metadata": {},
   "source": [
    "# MODEL TEST AŞAMASI"
   ]
  },
  {
   "cell_type": "code",
   "execution_count": 10,
   "metadata": {
    "scrolled": true
   },
   "outputs": [
    {
     "name": "stdout",
     "output_type": "stream",
     "text": [
      "Bu bir spam mesajdır\n"
     ]
    }
   ],
   "source": [
    "#transform\n",
    "\n",
    "test_message=\"Free entry in 2 a wkly comp to win FA Cup final tkts 21st May 2005. Text FA to 87121 to receive\"\n",
    "#test_message2=sms(\" Sorry, I'll call later\")\n",
    "\n",
    "#vectorizer\n",
    "test_vectorizer=count_vectorizer.transform([test_message]).toarray()\n",
    "\n",
    "#prediction\n",
    "pred=nb.predict(test_vectorizer)\n",
    "\n",
    "#tespit\n",
    "if pred[0]==\"spam\":\n",
    "    print(\"Bu bir spam mesajdır\")\n",
    "else:\n",
    "    print(\"Bu bir spam mesaj değildir\")\n",
    "\n"
   ]
  },
  {
   "cell_type": "code",
   "execution_count": 11,
   "metadata": {},
   "outputs": [
    {
     "data": {
      "text/plain": [
       "array(['aah', 'aathi', 'abi', 'ability', 'abiola', 'abj', 'able',\n",
       "       'absolutly', 'abt', 'abta', 'aburo', 'ac', 'academic', 'acc',\n",
       "       'accept'], dtype=object)"
      ]
     },
     "execution_count": 11,
     "metadata": {},
     "output_type": "execute_result"
    }
   ],
   "source": [
    "#burada gelen mesajlarda en çok kullanılan kelimeleri değişkene atadık\n",
    "most_frequent_words=count_vectorizer.get_feature_names_out()\n",
    "\n",
    "#en çok tekrar eden ilk 15 kelime\n",
    "most_frequent_words[:15]"
   ]
  },
  {
   "cell_type": "markdown",
   "metadata": {},
   "source": [
    "dataset:https://www.kaggle.com/datasets/team-ai/spam-text-message-classification?rvi=1"
   ]
  },
  {
   "cell_type": "code",
   "execution_count": null,
   "metadata": {},
   "outputs": [],
   "source": []
  }
 ],
 "metadata": {
  "kaggle": {
   "accelerator": "none",
   "dataSources": [
    {
     "datasetId": 2050,
     "sourceId": 3494,
     "sourceType": "datasetVersion"
    }
   ],
   "dockerImageVersionId": 30646,
   "isGpuEnabled": false,
   "isInternetEnabled": false,
   "language": "python",
   "sourceType": "notebook"
  },
  "kernelspec": {
   "display_name": "Python 3 (ipykernel)",
   "language": "python",
   "name": "python3"
  },
  "language_info": {
   "codemirror_mode": {
    "name": "ipython",
    "version": 3
   },
   "file_extension": ".py",
   "mimetype": "text/x-python",
   "name": "python",
   "nbconvert_exporter": "python",
   "pygments_lexer": "ipython3",
   "version": "3.11.3"
  }
 },
 "nbformat": 4,
 "nbformat_minor": 4
}
